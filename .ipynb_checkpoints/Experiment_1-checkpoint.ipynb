{
 "cells": [
  {
   "cell_type": "code",
   "execution_count": 7,
   "id": "f9c083b8-52cc-4a29-a089-68db2f62b7f0",
   "metadata": {},
   "outputs": [
    {
     "name": "stdout",
     "output_type": "stream",
     "text": [
      "[8, 9, 10, 11]\n",
      "the list length=4\n",
      "Maximum value=11\n",
      "minimum value=8\n"
     ]
    }
   ],
   "source": [
    "lst_1=list(range(8,12,1))\n",
    "print(lst_1)\n",
    "print('the list length={}'.format(len(lst_1)))\n",
    "print('Maximum value={}'.format(max(lst_1)))\n",
    "print('minimum value={}'.format(min(lst_1)))"
   ]
  },
  {
   "cell_type": "code",
   "execution_count": 19,
   "id": "6bbc0548-3e22-48cb-915f-30826d196e8b",
   "metadata": {},
   "outputs": [
    {
     "name": "stdout",
     "output_type": "stream",
     "text": [
      "['d', 'e', 'f', 'g', 'h', 'i', 'j', 'k', 'l']\n",
      "++++++++++++++++++++++++++++++++++++++++++++++++\n",
      "从倒数第三项到最后的字符是=['j', 'k', 'l']\n"
     ]
    }
   ],
   "source": [
    "lst_2=list(map(chr,range(100,109)))\n",
    "print(lst_2)\n",
    "print('+'*48)\n",
    "print('从倒数第三项到最后的字符是={}'.format(lst_2[-3:]))"
   ]
  },
  {
   "cell_type": "code",
   "execution_count": 32,
   "id": "9b0cf0a5-15d4-44d9-9e0a-d8f814e9e418",
   "metadata": {},
   "outputs": [
    {
     "name": "stdout",
     "output_type": "stream",
     "text": [
      "tuple_1=8,12,24,->(8, 12, 24)\n",
      "3*(tuple_1)->(8, 12, 24, 8, 12, 24, 8, 12, 24)\n",
      "tuple([5,8,9])->(5, 8, 9)\n"
     ]
    }
   ],
   "source": [
    "tuple_1=8,12,24,\n",
    "print('tuple_1=8,12,24,->{}'.format(tuple_1))\n",
    "print('3*(tuple_1)->{}'.format(3*tuple_1))\n",
    "print('tuple([5,8,9])->{}'.format(tuple([5,8,9])))"
   ]
  },
  {
   "cell_type": "code",
   "execution_count": 88,
   "id": "58bbecf4-8549-4eb0-b5b5-5b0842d10095",
   "metadata": {},
   "outputs": [
    {
     "name": "stdout",
     "output_type": "stream",
     "text": [
      "items->[(0, [0]), (1, [[20, 8]]), (2, 'wsalsj')]\n",
      "dic_1=dict(items)->{0: [0], 1: [[20, 8]], 2: 'wsalsj'}\n",
      "dic_1[1]->[[20, 8]]\n"
     ]
    }
   ],
   "source": [
    "import random\n",
    "items=[(0,[i for i in range(1)]),(1,[random.sample(list(range(8,24,4)),2)]),(2,'wsalsj')]\n",
    "print('items->{}'.format(items))\n",
    "dic_1=dict(items)\n",
    "print('dic_1=dict(items)->{}'.format(dic_1))\n",
    "print('dic_1[1]->{}'.format(dic_1[1]))"
   ]
  },
  {
   "cell_type": "code",
   "execution_count": 117,
   "id": "517f76a5-5ab5-4c22-bae1-4f4941bebce0",
   "metadata": {},
   "outputs": [
    {
     "name": "stdout",
     "output_type": "stream",
     "text": [
      "len(dic_1)->3\n",
      "dic_1[3]=(random.random(),random.uniform(8,12)->{0: [0], 1: [[20, 8]], 2: 'wsalsj', 3: (0.06482475206374683, 8.887596780170158)}\n",
      "del dic_1[3]->{0: [0], 1: [[20, 8]], 2: 'wsalsj'}\n",
      "0 in dic_1->True\n",
      "dic_1.keys()->dict_keys([0, 1, 2])\n",
      "dic_1.values()->dict_values([[0], [[20, 8]], 'wsalsj'])\n",
      "dic_1.items()->dict_items([(0, [0]), (1, [[20, 8]]), (2, 'wsalsj')])\n",
      "list(dic_1.values())->[[0], [[20, 8]], 'wsalsj']\n",
      "0 (0, [0])\n",
      "1 (1, [[20, 8]])\n",
      "2 (2, 'wsalsj')\n"
     ]
    }
   ],
   "source": [
    "print('len(dic_1)->{}'.format(len(dic_1)))\n",
    "dic_1[3]=(random.random(),random.uniform(8,12))\n",
    "print('dic_1[3]=(random.random(),random.uniform(8,12)->{}'.format(dic_1))\n",
    "del dic_1[3]\n",
    "print('del dic_1[3]->{}'.format(dic_1))\n",
    "print('0 in dic_1->{}'.format(0 in dic_1))\n",
    "print('dic_1.keys()->{}'.format(dic_1.keys()))\n",
    "print('dic_1.values()->{}'.format(dic_1.values()))\n",
    "print('dic_1.items()->{}'.format(dic_1.items()))\n",
    "print('list(dic_1.values())->{}'.format(list(dic_1.values())))\n",
    "for k,v in enumerate(dic_1.items()):\n",
    "    print(k,v)"
   ]
  },
  {
   "cell_type": "code",
   "execution_count": 150,
   "id": "385764f4-f65d-4a37-ac07-7ee227de9a80",
   "metadata": {},
   "outputs": [
    {
     "name": "stdout",
     "output_type": "stream",
     "text": [
      "lst_1=[8, 9, 10, 11],lst_2=[65, 89, 113]\n",
      "dic_2={1: [8, 9, 10, 11], 2: [65, 89, 113]}\n",
      "************************************\n",
      "dic_assignment={1: [8, 9, 10, 11], 2: [65, 89, 113]}\n",
      "dic_2.clear->{}\n",
      "dic_assignment={}\n",
      "dic_2[3]=list(range(1,6,1))->{3: [1, 2, 3, 4, 5]}\n",
      "dic_copy=dic_2.copy()->{3: [1, 2, 3, 4, 5]}\n",
      "dic_2[4]=[6,8]->{3: [1, 2, 3, 4, 5], 4: [6, 8]}\n",
      "dic_copy={3: [1, 2, 3, 4, 5]}\n",
      "dic_copy[3].remove(3)->{3: [1, 2, 4, 5]}\n",
      "dic_copy.setdefault(4,[88,99])->{3: [1, 2, 4, 5], 4: [98, 99]}\n"
     ]
    }
   ],
   "source": [
    "lst_1=list(range(8,12,1))\n",
    "lst_2=list(range(65,128,24))\n",
    "print('lst_1={},lst_2={}'.format(lst_1,lst_2))\n",
    "dic_2={1:lst_1,2:lst_2}\n",
    "print('dic_2={}'.format(dic_2))\n",
    "print('*'*36)\n",
    "dic_assignment=dic_2\n",
    "print('dic_assignment={}'.format(dic_assignment))\n",
    "dic_2.clear()\n",
    "print('dic_2.clear->{}'.format(dic_2))\n",
    "print('dic_assignment={}'.format(dic_assignment))\n",
    "dic_2[3]=list(range(1,6,1))\n",
    "print('dic_2[3]=list(range(1,6,1))->{}'.format(dic_2))\n",
    "dic_copy=dic_2.copy()\n",
    "print('dic_copy=dic_2.copy()->{}'.format(dic_copy))\n",
    "dic_2[4]=[6,8]\n",
    "print('dic_2[4]=[6,8]->{}'.format(dic_2))\n",
    "print('dic_copy={}'.format(dic_copy))\n",
    "dic_copy[3].remove(3)\n",
    "print('dic_copy[3].remove(3)->{}'.format(dic_copy))#to a part of setdefualt in the function of dictionary(字典的方法).11/3\n",
    "dic_copy.setdefault(4,[98,99])\n",
    "print('dic_copy.setdefault(4,[88,99])->{}'.format(dic_copy))\n"
   ]
  },
  {
   "cell_type": "code",
   "execution_count": null,
   "id": "e42eaae2-c9f3-4ff5-815e-1b05459d9b93",
   "metadata": {},
   "outputs": [],
   "source": []
  },
  {
   "cell_type": "code",
   "execution_count": null,
   "id": "98238bc0-2499-46a4-aa16-eea14b445ebb",
   "metadata": {},
   "outputs": [],
   "source": []
  }
 ],
 "metadata": {
  "kernelspec": {
   "display_name": "Python 3",
   "language": "python",
   "name": "python3"
  },
  "language_info": {
   "codemirror_mode": {
    "name": "ipython",
    "version": 3
   },
   "file_extension": ".py",
   "mimetype": "text/x-python",
   "name": "python",
   "nbconvert_exporter": "python",
   "pygments_lexer": "ipython3",
   "version": "3.8.8"
  }
 },
 "nbformat": 4,
 "nbformat_minor": 5
}
