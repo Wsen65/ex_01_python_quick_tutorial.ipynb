{
 "cells": [
  {
   "cell_type": "code",
   "execution_count": 7,
   "id": "f9c083b8-52cc-4a29-a089-68db2f62b7f0",
   "metadata": {},
   "outputs": [
    {
     "name": "stdout",
     "output_type": "stream",
     "text": [
      "[8, 9, 10, 11]\n",
      "the list length=4\n",
      "Maximum value=11\n",
      "minimum value=8\n"
     ]
    }
   ],
   "source": [
    "lst_1=list(range(8,12,1))\n",
    "print(lst_1)\n",
    "print('the list length={}'.format(len(lst_1)))\n",
    "print('Maximum value={}'.format(max(lst_1)))\n",
    "print('minimum value={}'.format(min(lst_1)))"
   ]
  },
  {
   "cell_type": "code",
   "execution_count": 19,
   "id": "6bbc0548-3e22-48cb-915f-30826d196e8b",
   "metadata": {},
   "outputs": [
    {
     "name": "stdout",
     "output_type": "stream",
     "text": [
      "['d', 'e', 'f', 'g', 'h', 'i', 'j', 'k', 'l']\n",
      "++++++++++++++++++++++++++++++++++++++++++++++++\n",
      "从倒数第三项到最后的字符是=['j', 'k', 'l']\n"
     ]
    }
   ],
   "source": [
    "lst_2=list(map(chr,range(100,109)))\n",
    "print(lst_2)\n",
    "print('+'*48)\n",
    "print('从倒数第三项到最后的字符是={}'.format(lst_2[-3:]))"
   ]
  },
  {
   "cell_type": "code",
   "execution_count": 32,
   "id": "9b0cf0a5-15d4-44d9-9e0a-d8f814e9e418",
   "metadata": {},
   "outputs": [
    {
     "name": "stdout",
     "output_type": "stream",
     "text": [
      "tuple_1=8,12,24,->(8, 12, 24)\n",
      "3*(tuple_1)->(8, 12, 24, 8, 12, 24, 8, 12, 24)\n",
      "tuple([5,8,9])->(5, 8, 9)\n"
     ]
    }
   ],
   "source": [
    "tuple_1=8,12,24,\n",
    "print('tuple_1=8,12,24,->{}'.format(tuple_1))\n",
    "print('3*(tuple_1)->{}'.format(3*tuple_1))\n",
    "print('tuple([5,8,9])->{}'.format(tuple([5,8,9])))"
   ]
  },
  {
   "cell_type": "code",
   "execution_count": 88,
   "id": "58bbecf4-8549-4eb0-b5b5-5b0842d10095",
   "metadata": {},
   "outputs": [
    {
     "name": "stdout",
     "output_type": "stream",
     "text": [
      "items->[(0, [0]), (1, [[20, 8]]), (2, 'wsalsj')]\n",
      "dic_1=dict(items)->{0: [0], 1: [[20, 8]], 2: 'wsalsj'}\n",
      "dic_1[1]->[[20, 8]]\n"
     ]
    }
   ],
   "source": [
    "import random\n",
    "items=[(0,[i for i in range(1)]),(1,[random.sample(list(range(8,24,4)),2)]),(2,'wsalsj')]\n",
    "print('items->{}'.format(items))\n",
    "dic_1=dict(items)\n",
    "print('dic_1=dict(items)->{}'.format(dic_1))\n",
    "print('dic_1[1]->{}'.format(dic_1[1]))"
   ]
  },
  {
   "cell_type": "code",
   "execution_count": 117,
   "id": "517f76a5-5ab5-4c22-bae1-4f4941bebce0",
   "metadata": {},
   "outputs": [
    {
     "name": "stdout",
     "output_type": "stream",
     "text": [
      "len(dic_1)->3\n",
      "dic_1[3]=(random.random(),random.uniform(8,12)->{0: [0], 1: [[20, 8]], 2: 'wsalsj', 3: (0.06482475206374683, 8.887596780170158)}\n",
      "del dic_1[3]->{0: [0], 1: [[20, 8]], 2: 'wsalsj'}\n",
      "0 in dic_1->True\n",
      "dic_1.keys()->dict_keys([0, 1, 2])\n",
      "dic_1.values()->dict_values([[0], [[20, 8]], 'wsalsj'])\n",
      "dic_1.items()->dict_items([(0, [0]), (1, [[20, 8]]), (2, 'wsalsj')])\n",
      "list(dic_1.values())->[[0], [[20, 8]], 'wsalsj']\n",
      "0 (0, [0])\n",
      "1 (1, [[20, 8]])\n",
      "2 (2, 'wsalsj')\n"
     ]
    }
   ],
   "source": [
    "print('len(dic_1)->{}'.format(len(dic_1)))\n",
    "dic_1[3]=(random.random(),random.uniform(8,12))\n",
    "print('dic_1[3]=(random.random(),random.uniform(8,12)->{}'.format(dic_1))\n",
    "del dic_1[3]\n",
    "print('del dic_1[3]->{}'.format(dic_1))\n",
    "print('0 in dic_1->{}'.format(0 in dic_1))\n",
    "print('dic_1.keys()->{}'.format(dic_1.keys()))\n",
    "print('dic_1.values()->{}'.format(dic_1.values()))\n",
    "print('dic_1.items()->{}'.format(dic_1.items()))\n",
    "print('list(dic_1.values())->{}'.format(list(dic_1.values())))\n",
    "for k,v in enumerate(dic_1.items()):\n",
    "    print(k,v)"
   ]
  },
  {
   "cell_type": "code",
   "execution_count": 28,
   "id": "385764f4-f65d-4a37-ac07-7ee227de9a80",
   "metadata": {},
   "outputs": [
    {
     "name": "stdout",
     "output_type": "stream",
     "text": [
      "lst_1=[8, 9, 10, 11],lst_2=[65, 89, 113]\n",
      "dic_2={1: [8, 9, 10, 11], 2: [65, 89, 113]}\n",
      "************************************\n",
      "dic_assignment={1: [8, 9, 10, 11], 2: [65, 89, 113]}\n",
      "dic_2.clear->{}\n",
      "dic_assignment={}\n",
      "dic_2[3]=list(range(1,6,1))->{3: [1, 2, 3, 4, 5]}\n",
      "dic_copy=dic_2.copy()->{3: [1, 2, 3, 4, 5]}\n",
      "dic_2[4]=[6,8]->{3: [1, 2, 3, 4, 5], 4: [6, 8]}\n",
      "dic_copy={3: [1, 2, 3, 4, 5]}\n",
      "dic_copy[3].remove(3)->{3: [1, 2, 4, 5]}\n",
      "dic_copy.setdefault(4,[98,99])->{3: [1, 2, 4, 5], 4: [98, 99]}\n",
      "dic_2.pop(4)->{3: [1, 2, 4, 5]}\n",
      "dic_update={4: [12, 24, 36], 5: [65, 72, 96]}\n",
      "dic_2.update(dic_update)->{3: [1, 2, 4, 5], 4: [12, 24, 36], 5: [65, 72, 96]}\n",
      "dic_2.get(5)->[65, 72, 96]\n",
      "dic_2.popitem()->{3: [1, 2, 4, 5], 4: [12, 24, 36]}\n",
      "dic_3={}.fromkeys([0,1,\"A\"])->{0: None, 1: None, 'A': None}\n"
     ]
    }
   ],
   "source": [
    "lst_1=list(range(8,12,1))\n",
    "lst_2=list(range(65,128,24))\n",
    "print('lst_1={},lst_2={}'.format(lst_1,lst_2))\n",
    "dic_2={1:lst_1,2:lst_2}\n",
    "print('dic_2={}'.format(dic_2))\n",
    "print('*'*36)\n",
    "dic_assignment=dic_2\n",
    "print('dic_assignment={}'.format(dic_assignment))\n",
    "dic_2.clear()\n",
    "print('dic_2.clear->{}'.format(dic_2))\n",
    "print('dic_assignment={}'.format(dic_assignment))\n",
    "dic_2[3]=list(range(1,6,1))\n",
    "print('dic_2[3]=list(range(1,6,1))->{}'.format(dic_2))\n",
    "dic_copy=dic_2.copy()\n",
    "print('dic_copy=dic_2.copy()->{}'.format(dic_copy))\n",
    "dic_2[4]=[6,8]\n",
    "print('dic_2[4]=[6,8]->{}'.format(dic_2))\n",
    "print('dic_copy={}'.format(dic_copy))\n",
    "dic_copy[3].remove(3)\n",
    "print('dic_copy[3].remove(3)->{}'.format(dic_copy))#to a part of setdefualt in the function of dictionary(字典的方法).11/3\n",
    "dic_copy.setdefault(4,[98,99])\n",
    "print('dic_copy.setdefault(4,[98,99])->{}'.format(dic_copy))\n",
    "dic_2.pop(4)\n",
    "print('dic_2.pop(4)->{}'.format(dic_2))\n",
    "dic_update={4:[12,24,36],5:[65,72,96]}\n",
    "print('dic_update={}'.format(dic_update))\n",
    "dic_2.update(dic_update)\n",
    "print('dic_2.update(dic_update)->{}'.format(dic_2))\n",
    "print('dic_2.get(5)->{}'.format(dic_2.get(5)))#.get only can be used before format\n",
    "dic_2.popitem()\n",
    "print('dic_2.popitem()->{}'.format(dic_2))\n",
    "dic_3={}.fromkeys([0,1,'A'])\n",
    "print('dic_3={}'+'.fromkeys([0,1,\"A\"])->{}'.format(dic_3))#MUST \"\""
   ]
  },
  {
   "cell_type": "code",
   "execution_count": 63,
   "id": "e42eaae2-c9f3-4ff5-815e-1b05459d9b93",
   "metadata": {},
   "outputs": [
    {
     "name": "stdout",
     "output_type": "stream",
     "text": [
      "lst_s_1=list('Hellow CHINA!')->['H', 'e', 'l', 'l', 'o', 'w', ' ', 'C', 'H', 'I', 'N', 'A', '!']\n",
      "'Hellow'+'CHINA!'->Hellow CHINA!\n",
      "'+'.join(str(1268))->1+2+6+8\n",
      "len('HellowCHINA!')->12\n",
      "coordinates.split(',')->['128.128', '96.69']\n",
      "eval(coordinates)->(128.128, 96.69)\n",
      "'Hellow CHINA!'.lower()->hellow china!\n",
      "'Hellow CHINA!'.upper()->HELLOW CHINA!\n",
      "'Hellow CHINA!'[6:]-> CHINA!\n",
      "'    Hellow CHINA!'    .strip()->Hellow CHINA!\n",
      "'Hellow CHINA!'.replace('CHINA','TAIWAN'->Hellow TAIWAN!\n",
      "hellow_list.sort()>[' ', '!', 'A', 'C', 'H', 'H', 'I', 'N', 'e', 'l', 'l', 'o', 'w']\n",
      "'Hellow CHINA!'.find('CH')>7\n"
     ]
    }
   ],
   "source": [
    "lst_s_1=list('Hellow CHINA!')\n",
    "print('lst_s_1=list(\\'Hellow CHINA!\\')->{}'.format(lst_s_1))\n",
    "print('\\'Hellow\\'+\\'CHINA!\\'->{}'.format('Hellow'+' CHINA!'))\n",
    "print('\\'+\\'.join(str(1268))->{}'.format('+'.join(str(1268))))\n",
    "print('len(\\'HellowCHINA!\\')->{}'.format(len('HellowCHINA!')))\n",
    "coordinates='128.128,96.69'\n",
    "print('coordinates.split(\\',\\')->{}'.format(coordinates.split(',')))\n",
    "print('eval(coordinates)->{}'.format(eval(coordinates)))\n",
    "print('\\'Hellow CHINA!\\'.lower()->{}'.format('Hellow CHINA!'.lower()))\n",
    "print('\\'Hellow CHINA!\\'.upper()->{}'.format('Hellow CHINA!'.upper()))\n",
    "print('\\'Hellow CHINA!\\'[6:]->{}'.format('Hellow CHINA!'[6:]))\n",
    "print('\\'    Hellow CHINA!\\'    .strip()->{}'.format('    Hellow CHINA!    '.strip()))\n",
    "print('\\'Hellow CHINA!\\'.replace(\\'CHINA\\',\\'TAIWAN\\'->{}'.format(\"Hellow CHINA!\".replace('CHINA','TAIWAN')))\n",
    "hellow_lst=list('Hellow CHINA!')\n",
    "hellow_lst.sort()\n",
    "print('hellow_list.sort()>{}'.format(hellow_lst))#-> can be changed to >\n",
    "print('\\'Hellow CHINA!\\'.find(\\'CH\\')>{}'.format('Hellow CHINA!'.find('CH')))"
   ]
  },
  {
   "cell_type": "code",
   "execution_count": 66,
   "id": "98238bc0-2499-46a4-aa16-eea14b445ebb",
   "metadata": {},
   "outputs": [
    {
     "name": "stdout",
     "output_type": "stream",
     "text": [
      "new_str=format_str % values->Hellow CHINA and US!\n",
      "new_str_2=format_str_2 % (pi,3.1415926)->Pi with three decimals:3.142,and enter a value with percent sign:3.14 %\n"
     ]
    }
   ],
   "source": [
    "format_str_1=\"Hellow %s and %s!\"\n",
    "values=(\"CHINA\",\"US\")\n",
    "new_str=format_str % values\n",
    "print(\"new_str=format_str % values->{}\".format(new_str))\n",
    "format_str_2=\"Pi with three decimals:%.3f,and enter a value with percent sign:%.2f %%\"\n",
    "from math import pi\n",
    "new_str_2=format_str_2 % (pi,3.1415926)\n",
    "print(\"new_str_2=format_str_2 % (pi,3.1415926)->{}\".format(new_str_2))"
   ]
  },
  {
   "cell_type": "code",
   "execution_count": 68,
   "id": "e42d9913-2044-416a-9d32-c59c11a01d61",
   "metadata": {},
   "outputs": [
    {
     "name": "stdout",
     "output_type": "stream",
     "text": [
      "    3.141593,3.14      ,3.14,Hellow CHINA!,Hello,520,209,3.141593\n"
     ]
    }
   ],
   "source": [
    "format_str_3='%12f,%-10.2f,%.2f,%6s,%.*s,%d,%x,%f'\n",
    "new_str_3=format_str_3%(pi,pi,pi,'Hellow CHINA!',5,'Hellow CHINA!',520,521,pi)\n",
    "print('{}'.format(new_str_3))"
   ]
  },
  {
   "cell_type": "code",
   "execution_count": 78,
   "id": "b513cd1f-7889-4bac-9187-31a221d1243a",
   "metadata": {},
   "outputs": [
    {
     "name": "stdout",
     "output_type": "stream",
     "text": [
      "s_1=s_template_1.substitute(x='CHINA')->CHINA,glorious,CHINA!\n",
      "s_2=s_template_2.substitute(x='C')->CHINA is amazing!\n",
      "substitute_dict={'x': 'CHINA', 'y': 'TAIWAN'}\n",
      "s_3=s_template_3.substitute(substitute_dict)->CHINA and TAIWAN are both amazing!\n"
     ]
    }
   ],
   "source": [
    "from string import Template\n",
    "s_template_1=Template('$x,glorious,$x!')\n",
    "s_1=s_template_1.substitute(x='CHINA')\n",
    "print('s_1=s_template_1.substitute(x=\\'CHINA\\')->{}'.format(s_1))\n",
    "s_template_2=Template('${x}HINA is amazing!')\n",
    "s_2=s_template_2.substitute(x='C')\n",
    "print('s_2=s_template_2.substitute(x=\\'C\\')->{}'.format(s_2))\n",
    "s_template_3=Template(\"$x and $y are both amazing!\")\n",
    "substitute_dict=dict([('x','CHINA'),('y','TAIWAN')])\n",
    "print(\"substitute_dict={}\".format(substitute_dict))\n",
    "s_3=s_template_3.substitute(substitute_dict)\n",
    "print(\"s_3=s_template_3.substitute(substitute_dict)->{}\".format(s_3))"
   ]
  },
  {
   "cell_type": "code",
   "execution_count": 79,
   "id": "c38fcdc6-c2a4-4da3-bc4d-c9d9baef77c2",
   "metadata": {},
   "outputs": [
    {
     "name": "stdout",
     "output_type": "stream",
     "text": [
      "re.findall(pattern_1,text)->['Python']\n",
      "re.findall(pattern_2,text)->[]\n"
     ]
    }
   ],
   "source": [
    "import re\n",
    "pattern_1='Python'\n",
    "text=\"Hello Python!\"\n",
    "print(\"re.findall(pattern_1,text)->{}\".format(re.findall(pattern_1,text)))\n",
    "pattern_2='python'\n",
    "print(\"re.findall(pattern_2,text)->{}\".format(re.findall(pattern_2,text)))"
   ]
  },
  {
   "cell_type": "code",
   "execution_count": 80,
   "id": "db2f9f52-9f24-4955-b839-afadf43128a5",
   "metadata": {},
   "outputs": [
    {
     "name": "stdout",
     "output_type": "stream",
     "text": [
      "re.findall('.ython','Hello Python!')->['Python']\n",
      "re.findall('.ython','Hello gython!')->['gython']\n",
      "re.findall('.ython','Hello gPython!')->['Python']\n",
      "re.findall('.ython','Hello Pthon!')->[]\n"
     ]
    }
   ],
   "source": [
    "print(\"re.findall('.ython','Hello Python!')->{}\".format(re.findall('.ython','Hello Python!')))\n",
    "print(\"re.findall('.ython','Hello gython!')->{}\".format(re.findall('.ython','Hello gython!')))\n",
    "print(\"re.findall('.ython','Hello gPython!')->{}\".format(re.findall('.ython','Hello gPython!')))\n",
    "print(\"re.findall('.ython','Hello Pthon!')->{}\".format(re.findall('.ython','Hello Pthon!')))"
   ]
  },
  {
   "cell_type": "code",
   "execution_count": 81,
   "id": "484079ac-5e49-41fb-8875-11d2bb1849df",
   "metadata": {},
   "outputs": [
    {
     "name": "stdout",
     "output_type": "stream",
     "text": [
      "re.findall('\\d','number=10')->['1', '0']\n",
      "re.findall('\\D','number=10')->['n', 'u', 'm', 'b', 'e', 'r', '=']\n",
      "re.findall('[^0-9]','number=10')->['n', 'u', 'm', 'b', 'e', 'r', '=']\n"
     ]
    }
   ],
   "source": [
    "print(\"re.findall('\\d','number=10')->{}\".format(re.findall('\\d','number=10')))\n",
    "print(\"re.findall('\\D','number=10')->{}\".format(re.findall('\\D','number=10')))\n",
    "print(\"re.findall('[^0-9]','number=10')->{}\".format(re.findall('[^0-9]','number=10')))"
   ]
  },
  {
   "cell_type": "code",
   "execution_count": 85,
   "id": "8bd0bf9a-20d7-4e7d-b816-cd48622a08b5",
   "metadata": {},
   "outputs": [
    {
     "name": "stdout",
     "output_type": "stream",
     "text": [
      "lst_1=[24, 26, 28, 30, 32, 34]\n",
      "____________________________________\n",
      "for i in lst_1:\n",
      "24\n",
      "26\n",
      "28\n",
      "30\n",
      "32\n",
      "34\n",
      "for i in range(len(lst_1)):\n",
      "idx=0,val=24\n",
      "idx=1,val=26\n",
      "idx=2,val=28\n",
      "idx=3,val=30\n",
      "idx=4,val=32\n",
      "idx=5,val=34\n",
      "++++++++++++++++++++++++++++++++++++\n",
      "dic_4={'a': 2, 'b': 3, 'c': 6, 'd': 0}\n",
      "____________________________________\n",
      "for k in dic_4:\n",
      "a\n",
      "b\n",
      "c\n",
      "d\n",
      "for k,v in dic_4.items():\n",
      "key=a,val=2\n",
      "key=b,val=3\n",
      "key=c,val=6\n",
      "key=d,val=0\n"
     ]
    }
   ],
   "source": [
    "lst_1=list(range(24,36,2))\n",
    "print(\"lst_1={}\".format(lst_1))\n",
    "print(\"_\"*36)\n",
    "print(\"for i in lst_1:\")\n",
    "for i in lst_1:\n",
    "    print(i)\n",
    "print(\"for i in range(len(lst_1)):\")\n",
    "for i in range(len(lst_1)):\n",
    "    print(\"idx={},val={}\".format(i,lst_1[i]))\n",
    "print(\"+\"*36)   \n",
    "dic_4=dict(a=2,b=3,c=6,d=0)\n",
    "print(\"dic_4={}\".format(dic_4))\n",
    "print(\"_\"*36)\n",
    "print(\"for k in dic_4:\")\n",
    "for k in dic_4:\n",
    "    print(k)\n",
    "print(\"for k,v in dic_4.items():\")\n",
    "for k,v in dic_4.items():\n",
    "    print(\"key={},val={}\".format(k,v))\n"
   ]
  },
  {
   "cell_type": "code",
   "execution_count": 88,
   "id": "b4202467-df7b-4f6d-abc3-5dc0dd8dc3c6",
   "metadata": {},
   "outputs": [
    {
     "name": "stdout",
     "output_type": "stream",
     "text": [
      "x=1\n",
      "x=11\n"
     ]
    }
   ],
   "source": [
    "x=1\n",
    "while x<=16:\n",
    "    print(\"x={}\".format(x))\n",
    "    x+=10 "
   ]
  },
  {
   "cell_type": "code",
   "execution_count": 94,
   "id": "218be04e-cd79-450f-9fcb-7da89116c6f2",
   "metadata": {},
   "outputs": [
    {
     "name": "stdout",
     "output_type": "stream",
     "text": [
      "x=1\n",
      "x=11\n",
      "x=21\n",
      "x=31\n",
      "x=41\n",
      "sys.maxsize=9223372036854775807\n",
      "i=0\n",
      "i=1\n",
      "i=2\n"
     ]
    }
   ],
   "source": [
    "x=1\n",
    "while x<=100:\n",
    "    print(\"x={}\".format(x))\n",
    "    x+=10 \n",
    "    if x>=50:break  \n",
    "    \n",
    "import sys\n",
    "print(\"sys.maxsize={}\".format(sys.maxsize))\n",
    "for i in range(sys.maxsize):\n",
    "    print(\"i={}\".format(i))\n",
    "    i+=10\n",
    "    if i>=12:break"
   ]
  },
  {
   "cell_type": "code",
   "execution_count": 99,
   "id": "447ce364-d952-4e5b-baf4-b63f4f7a87bc",
   "metadata": {},
   "outputs": [
    {
     "name": "stdout",
     "output_type": "stream",
     "text": [
      "zip_lst=zip(lst_a,lst_b)-><zip object at 0x7f82a8f8ef80>\n",
      "dict(zip_lst)->{0: 'point_a', 1: 'point_b', 2: 'point_c', 3: 'point_d'}\n",
      "0 point_a\n",
      "1 point_b\n",
      "2 point_c\n",
      "3 point_d\n",
      "a=(0, 1, 2, 3),b=('point_a', 'point_b', 'point_c', 'point_d')\n"
     ]
    }
   ],
   "source": [
    "lst_a=[0,1,2,3]\n",
    "lst_b=['point_a','point_b','point_c','point_d']\n",
    "zip_lst=zip(lst_a,lst_b) \n",
    "print(\"zip_lst=zip(lst_a,lst_b)->{}\".format(zip_lst))\n",
    "print(\"dict(zip_lst)->{}\".format(dict(zip_lst)))\n",
    "\n",
    "zip_lst=zip(lst_a,lst_b) \n",
    "for a,b in zip_lst:\n",
    "    print(a,b)\n",
    "    \n",
    "zip_lst=zip(lst_a,lst_b)\n",
    "a,b=zip(*zip_lst)\n",
    "print(\"a={},b={}\".format(a,b))"
   ]
  },
  {
   "cell_type": "code",
   "execution_count": 101,
   "id": "1eb8aebf-f2e2-4ee0-87eb-7b0f1dc6baac",
   "metadata": {},
   "outputs": [
    {
     "name": "stdout",
     "output_type": "stream",
     "text": [
      "dic_4={0: 'point_a', 1: 'point_b', 2: 'point_c', 3: 'point_d'}\n",
      "dict((i,v) for i,v in enumerate(lst_c))->{0: 'point_a', 1: 'point_b', 2: 'point_c', 3: 'point_d'}\n",
      "____________________________________\n",
      "0:0,point_a\n",
      "1:1,point_b\n",
      "2:2,point_c\n",
      "3:3,point_d\n"
     ]
    }
   ],
   "source": [
    "lst_c=['point_a','point_b','point_c','point_d']\n",
    "dic_4={}\n",
    "for idx,value in enumerate(lst_c):\n",
    "    dic_4[idx]=value\n",
    "print(\"dic_4={}\".format(dic_4))\n",
    "print(\"dict((i,v) for i,v in enumerate(lst_c))->{}\".format(dict((i,v) for i,v in enumerate(lst_c)))) \n",
    "print(\"_\"*36)\n",
    "for i,(a,b) in enumerate(zip(lst_a,lst_b)):\n",
    "    print('%d:%s,%s'%(i,a,b))"
   ]
  },
  {
   "cell_type": "code",
   "execution_count": 102,
   "id": "ca081785-fd24-484f-b7c0-4196eb6334be",
   "metadata": {},
   "outputs": [
    {
     "name": "stdout",
     "output_type": "stream",
     "text": [
      "Positive and larger than or equal to 12.\n"
     ]
    }
   ],
   "source": [
    "x=12\n",
    "if x<0:\n",
    "    print('It is negative.')\n",
    "elif x==0:\n",
    "    print('Equal to zero.')\n",
    "elif 0<x<12:\n",
    "    print('Positive but smaller than 12')\n",
    "else:\n",
    "    print('Positive and larger than or equal to 12.')"
   ]
  },
  {
   "cell_type": "code",
   "execution_count": 103,
   "id": "d0a7b684-99a1-4407-94bc-1310ae98cab7",
   "metadata": {},
   "outputs": [
    {
     "name": "stdout",
     "output_type": "stream",
     "text": [
      "x==y->True\n",
      "x is y->True\n",
      "x==z->True\n",
      "x is z->False\n",
      "x is not y->False\n",
      "x is not z->True\n",
      "id_x:140199157214784;id_y:140199157214784;id_z:140199135255616\n",
      "x=[8, 6],y=[8, 6],z=[8, 6, 9] after del x[2]\n"
     ]
    }
   ],
   "source": [
    "x=y=[8,6,9]\n",
    "z=[8,6,9]\n",
    "print(\"x==y->{}\".format(x==y))\n",
    "print(\"x is y->{}\".format(x is y))\n",
    "print(\"x==z->{}\".format(x==z))\n",
    "print(\"x is z->{}\".format(x is z))\n",
    "print(\"x is not y->{}\".format(x is not y))\n",
    "print(\"x is not z->{}\".format(x is not z))\n",
    "print(\"id_x:{};id_y:{};id_z:{}\".format(id(x),id(y),id(z))) \n",
    "del x[2]\n",
    "print(\"x={},y={},z={} after del x[2]\".format(x,y,z))"
   ]
  },
  {
   "cell_type": "code",
   "execution_count": 104,
   "id": "e32c7fdd-716d-4cb0-96c4-e85cec041dd7",
   "metadata": {},
   "outputs": [
    {
     "name": "stdout",
     "output_type": "stream",
     "text": [
      "swift.fly->whirring\n",
      "swift.eat()->\n",
      "Aaaah\n",
      "swift.eat()->\n",
      "No,Thanks!\n",
      "swift.sing()->\n",
      "Squawk!\n"
     ]
    }
   ],
   "source": [
    "class Bird:\n",
    "    fly='whirring'\n",
    "    def __init__(self):\n",
    "        self.hungry=True\n",
    "    def eat(self):\n",
    "        if self.hungry:\n",
    "            print('Aaaah')\n",
    "            self.hungry=False\n",
    "        else:\n",
    "            print('No,Thanks!')\n",
    "class Apodidae(Bird):\n",
    "    def __init__(self):\n",
    "        super(Apodidae,self).__init__()\n",
    "        self.sound='Squawk!'\n",
    "    def sing(self):\n",
    "        print(self.sound)\n",
    "swift=Apodidae()\n",
    "print('swift.fly->{}'.format(swift.fly))\n",
    "print('swift.eat()->')\n",
    "swift.eat()\n",
    "print('swift.eat()->')\n",
    "swift.eat()\n",
    "print('swift.sing()->')\n",
    "swift.sing()"
   ]
  },
  {
   "cell_type": "code",
   "execution_count": 105,
   "id": "f6ff5684-054c-4803-8906-c7a422a59b81",
   "metadata": {},
   "outputs": [
    {
     "name": "stdout",
     "output_type": "stream",
     "text": [
      "blackswift.sing()->\n",
      "Squawk!\n",
      "scarceswift.sing()->\n",
      "Squawk!\n"
     ]
    }
   ],
   "source": [
    "blackswift=Apodidae()\n",
    "scarceswift=Apodidae()\n",
    "print(\"blackswift.sing()->\")\n",
    "blackswift.sing()\n",
    "print(\"scarceswift.sing()->\")\n",
    "scarceswift.sing()"
   ]
  },
  {
   "cell_type": "code",
   "execution_count": 106,
   "id": "ce91c06b-7f35-4a9b-82c7-5d323bbe8d81",
   "metadata": {},
   "outputs": [
    {
     "name": "stdout",
     "output_type": "stream",
     "text": [
      "Help on class Apodidae in module __main__:\n",
      "\n",
      "class Apodidae(Bird)\n",
      " |  Method resolution order:\n",
      " |      Apodidae\n",
      " |      Bird\n",
      " |      builtins.object\n",
      " |  \n",
      " |  Methods defined here:\n",
      " |  \n",
      " |  __init__(self)\n",
      " |      Initialize self.  See help(type(self)) for accurate signature.\n",
      " |  \n",
      " |  sing(self)\n",
      " |  \n",
      " |  ----------------------------------------------------------------------\n",
      " |  Methods inherited from Bird:\n",
      " |  \n",
      " |  eat(self)\n",
      " |  \n",
      " |  ----------------------------------------------------------------------\n",
      " |  Data descriptors inherited from Bird:\n",
      " |  \n",
      " |  __dict__\n",
      " |      dictionary for instance variables (if defined)\n",
      " |  \n",
      " |  __weakref__\n",
      " |      list of weak references to the object (if defined)\n",
      " |  \n",
      " |  ----------------------------------------------------------------------\n",
      " |  Data and other attributes inherited from Bird:\n",
      " |  \n",
      " |  fly = 'whirring'\n",
      "\n"
     ]
    }
   ],
   "source": [
    "help(Apodidae)"
   ]
  },
  {
   "cell_type": "code",
   "execution_count": 107,
   "id": "2391134b-c050-4068-8d4f-c0e73b872968",
   "metadata": {},
   "outputs": [],
   "source": [
    "class Fibs():\n",
    "    def __init__(self):\n",
    "        self.a=0\n",
    "        self.b=1\n",
    "    def next(self): \n",
    "        self.a,self.b=self.b,self.a+self.b\n",
    "        return self.a\n",
    "    def __iter__(self): \n",
    "        return self"
   ]
  },
  {
   "cell_type": "code",
   "execution_count": 108,
   "id": "16831d76-511f-4045-b256-e940a79b06a9",
   "metadata": {},
   "outputs": [
    {
     "name": "stdout",
     "output_type": "stream",
     "text": [
      "fa=[1, 1, 2, 3, 5, 8, 13, 21, 34]\n",
      "fb=[55, 89, 144, 233, 377]\n"
     ]
    }
   ],
   "source": [
    "f=Fibs()\n",
    "fa=[]\n",
    "fb=[]\n",
    "for i in range(9):\n",
    "    fa.append(f.next())\n",
    "print(\"fa={}\".format(fa))\n",
    "for i in range(5):\n",
    "    fb.append(f.next())\n",
    "print(\"fb={}\".format(fb))"
   ]
  },
  {
   "cell_type": "code",
   "execution_count": 110,
   "id": "1e0bef4b-1053-417e-8983-d2c3d9f280ac",
   "metadata": {},
   "outputs": [
    {
     "name": "stdout",
     "output_type": "stream",
     "text": [
      "lst_e=[[3, 6, 9, 12, 15, 18], [3, 7, 67, [0, 1, 2, 3, 4], 89]]\n",
      "____________________________________\n",
      "flatten_lst=[3, 6, 9, 12, 15, 18, 3, 7, 67, 0, 1, 2, 3, 4, 89]\n"
     ]
    }
   ],
   "source": [
    "lst_e=[list(range(3,20,3)),[3,7,67,list(range(5)),89]]\n",
    "print(\"lst_e={}\".format(lst_e))\n",
    "print(\"_\"*36)\n",
    "flatten_lst=[]\n",
    "for v_1 in lst_e:\n",
    "    try:\n",
    "        for v_2 in v_1:\n",
    "            try:\n",
    "                for v_3 in v_2:\n",
    "                    flatten_lst.append(v_3)\n",
    "            except TypeError:\n",
    "                flatten_lst.append(v_2)\n",
    "    except TypeError:\n",
    "        flatten_lst.append(v_1)\n",
    "print(\"flatten_lst={}\".format(flatten_lst))"
   ]
  },
  {
   "cell_type": "code",
   "execution_count": 111,
   "id": "cd884fb6-421c-4619-9e6f-af946875292f",
   "metadata": {},
   "outputs": [
    {
     "name": "stdout",
     "output_type": "stream",
     "text": [
      "next(n)->num#0\n",
      "next(n)->num#1\n",
      "next(n)->num#2\n",
      "[next(n) for i in range(5)]->['num#3', 'num#4', 'num#5', 'num#6', 'num#7']\n"
     ]
    }
   ],
   "source": [
    "def infinite():\n",
    "    n=0\n",
    "    while True:\n",
    "        yield 'num#'+str(n)\n",
    "        n+=1\n",
    "n=infinite()\n",
    "print(\"next(n)->{}\".format(next(n)))\n",
    "print(\"next(n)->{}\".format(next(n)))\n",
    "print(\"next(n)->{}\".format(next(n)))\n",
    "print(\"[next(n) for i in range(5)]->{}\".format([next(n) for i in range(5)]))"
   ]
  },
  {
   "cell_type": "code",
   "execution_count": 112,
   "id": "f85a9528-8269-4b5c-8a86-e395f087f506",
   "metadata": {},
   "outputs": [
    {
     "name": "stdout",
     "output_type": "stream",
     "text": [
      "[[(2*pi*(2*(u/(n-1))-1),2*pi*(2*(v/(n-1))-1)) for u in range(n)] for v in range(n)]->[[(-6.283185307179586, -6.283185307179586), (0.0, -6.283185307179586), (6.283185307179586, -6.283185307179586)], [(-6.283185307179586, 0.0), (0.0, 0.0), (6.283185307179586, 0.0)], [(-6.283185307179586, 6.283185307179586), (0.0, 6.283185307179586), (6.283185307179586, 6.283185307179586)]]\n",
      "____________________________________\n",
      "([(2*pi*(2*(u/(n-1))-1),2*pi*(2*(v/(n-1))-1)) for u in range(n)] for v in range(n))-><generator object <genexpr> at 0x7f82a8f89190>\n",
      "next(gen)->[(-6.283185307179586, -6.283185307179586), (0.0, -6.283185307179586), (6.283185307179586, -6.283185307179586)]\n",
      "next(gen)->[(-6.283185307179586, 0.0), (0.0, 0.0), (6.283185307179586, 0.0)]\n"
     ]
    }
   ],
   "source": [
    "n=3\n",
    "print(\"[[(2*pi*(2*(u/(n-1))-1),2*pi*(2*(v/(n-1))-1)) for u in range(n)] for v in range(n)]->{}\".format([[(2*pi*(2*(u/(n-1))-1),2*pi*(2*(v/(n-1))-1)) for u in range(n)] for v in range(n)]))\n",
    "print(\"_\"*36)\n",
    "print(\"([(2*pi*(2*(u/(n-1))-1),2*pi*(2*(v/(n-1))-1)) for u in range(n)] for v in range(n))->{}\".format(([(2*pi*(2*(u/(n-1))-1),2*pi*(2*(v/(n-1))-1)) for u in range(n)] for v in range(n))))\n",
    "gen=([(2*pi*(2*(u/(n-1))-1),2*pi*(2*(v/(n-1))-1)) for u in range(n)] for v in range(n))\n",
    "print(\"next(gen)->{}\".format(next(gen)))\n",
    "print(\"next(gen)->{}\".format(next(gen)))"
   ]
  },
  {
   "cell_type": "code",
   "execution_count": null,
   "id": "fe81f22c-9cfc-4d7a-b680-7dc4ac06a60a",
   "metadata": {},
   "outputs": [],
   "source": []
  }
 ],
 "metadata": {
  "kernelspec": {
   "display_name": "Python 3",
   "language": "python",
   "name": "python3"
  },
  "language_info": {
   "codemirror_mode": {
    "name": "ipython",
    "version": 3
   },
   "file_extension": ".py",
   "mimetype": "text/x-python",
   "name": "python",
   "nbconvert_exporter": "python",
   "pygments_lexer": "ipython3",
   "version": "3.8.8"
  }
 },
 "nbformat": 4,
 "nbformat_minor": 5
}
